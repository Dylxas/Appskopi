{
  "cells": [
    {
      "cell_type": "markdown",
      "metadata": {
        "id": "FZTENbhIoEeJ"
      },
      "source": [
        "# **Implementasi Metode Statistik Orde Pertama dan *Learning Vector Quantizatio*n (LVQ) Untuk Mengidentifikasi Kualitas Biji Kopi Jawa Melalui Pengaruh Roasting**"
      ]
    },
    {
      "cell_type": "code",
      "execution_count": 1,
      "metadata": {
        "colab": {
          "base_uri": "https://localhost:8080/"
        },
        "id": "cwfhjJ_hn7rP",
        "outputId": "50bc7ec3-d191-437c-ec81-2422b387c37c"
      },
      "outputs": [],
      "source": [
        "import io\n",
        "import os\n",
        "import cv2\n",
        "import sys\n",
        "import time\n",
        "import random\n",
        "import tkinter\n",
        "import numpy.random\n",
        "import customtkinter\n",
        "import numpy as np\n",
        "import pandas as pd\n",
        "import seaborn as sns\n",
        "import matplotlib.cm as cm\n",
        "import matplotlib.pyplot as plt\n",
        "import sklearn.metrics as metrics\n",
        "\n",
        "numpy.random.seed(0)\n",
        "\n",
        "from os import listdir\n",
        "from skimage import io\n",
        "from curses import window\n",
        "from threading import Thread\n",
        "from PIL import Image, ImageTk\n",
        "from tkinter import ttk, filedialog\n",
        "# from tkinter.filedialog import askopenfile\n",
        "from sklearn.preprocessing import StandardScaler\n",
        "from sklearn.model_selection import train_test_split\n",
        "from sklearn.metrics import confusion_matrix, precision_score, recall_score, accuracy_score, f1_score"
      ]
    },
    {
      "cell_type": "code",
      "execution_count": 2,
      "metadata": {
        "colab": {
          "base_uri": "https://localhost:8080/",
          "height": 224
        },
        "id": "GriWftFTprfJ",
        "outputId": "d12afe0c-dd94-4675-c343-db581d4db6d3"
      },
      "outputs": [
        {
          "name": "stdout",
          "output_type": "stream",
          "text": [
            "TA-18-051-Dataset\n"
          ]
        },
        {
          "data": {
            "text/html": [
              "<div>\n",
              "<style scoped>\n",
              "    .dataframe tbody tr th:only-of-type {\n",
              "        vertical-align: middle;\n",
              "    }\n",
              "\n",
              "    .dataframe tbody tr th {\n",
              "        vertical-align: top;\n",
              "    }\n",
              "\n",
              "    .dataframe thead th {\n",
              "        text-align: right;\n",
              "    }\n",
              "</style>\n",
              "<table border=\"1\" class=\"dataframe\">\n",
              "  <thead>\n",
              "    <tr style=\"text-align: right;\">\n",
              "      <th></th>\n",
              "      <th>image_file</th>\n",
              "      <th>label</th>\n",
              "      <th>path</th>\n",
              "    </tr>\n",
              "  </thead>\n",
              "  <tbody>\n",
              "    <tr>\n",
              "      <th>0</th>\n",
              "      <td>DatasetGelap/DG1.jpg</td>\n",
              "      <td>Gelap</td>\n",
              "      <td>TA-18-051-Dataset/DatasetGelap/DG1.jpg</td>\n",
              "    </tr>\n",
              "    <tr>\n",
              "      <th>1</th>\n",
              "      <td>DatasetGelap/DG10.jpg</td>\n",
              "      <td>Gelap</td>\n",
              "      <td>TA-18-051-Dataset/DatasetGelap/DG10.jpg</td>\n",
              "    </tr>\n",
              "    <tr>\n",
              "      <th>2</th>\n",
              "      <td>DatasetGelap/DG11.jpg</td>\n",
              "      <td>Gelap</td>\n",
              "      <td>TA-18-051-Dataset/DatasetGelap/DG11.jpg</td>\n",
              "    </tr>\n",
              "    <tr>\n",
              "      <th>3</th>\n",
              "      <td>DatasetGelap/DG12.jpg</td>\n",
              "      <td>Gelap</td>\n",
              "      <td>TA-18-051-Dataset/DatasetGelap/DG12.jpg</td>\n",
              "    </tr>\n",
              "    <tr>\n",
              "      <th>4</th>\n",
              "      <td>DatasetGelap/DG13.jpg</td>\n",
              "      <td>Gelap</td>\n",
              "      <td>TA-18-051-Dataset/DatasetGelap/DG13.jpg</td>\n",
              "    </tr>\n",
              "  </tbody>\n",
              "</table>\n",
              "</div>"
            ],
            "text/plain": [
              "              image_file  label                                     path\n",
              "0   DatasetGelap/DG1.jpg  Gelap   TA-18-051-Dataset/DatasetGelap/DG1.jpg\n",
              "1  DatasetGelap/DG10.jpg  Gelap  TA-18-051-Dataset/DatasetGelap/DG10.jpg\n",
              "2  DatasetGelap/DG11.jpg  Gelap  TA-18-051-Dataset/DatasetGelap/DG11.jpg\n",
              "3  DatasetGelap/DG12.jpg  Gelap  TA-18-051-Dataset/DatasetGelap/DG12.jpg\n",
              "4  DatasetGelap/DG13.jpg  Gelap  TA-18-051-Dataset/DatasetGelap/DG13.jpg"
            ]
          },
          "execution_count": 2,
          "metadata": {},
          "output_type": "execute_result"
        }
      ],
      "source": [
        "levels = ['DatasetGelap', 'DatasetTerang']\n",
        "path = \"TA-18-051-Dataset\"\n",
        "data_dir = os.path.join(path)\n",
        "print(data_dir)\n",
        "\n",
        "data = []\n",
        "for id, level in enumerate(levels):\n",
        "    for file in os.listdir(os.path.join(data_dir, level)):\n",
        "        data.append(['{}/{}'.format(level, file), level])\n",
        "\n",
        "data = pd.DataFrame(data, columns = ['image_file', 'label'])\n",
        "data['path'] = path + '/' + data['image_file']\n",
        "data['label'] = data['label'].map({'DatasetGelap': 'Gelap', 'DatasetTerang': 'Terang'})\n",
        "data.head()"
      ]
    },
    {
      "cell_type": "code",
      "execution_count": 3,
      "metadata": {
        "colab": {
          "base_uri": "https://localhost:8080/",
          "height": 206
        },
        "id": "Ejicb1UdrMhW",
        "outputId": "3b8ffd0d-33ae-4018-f973-70d1bb30b158"
      },
      "outputs": [
        {
          "data": {
            "text/html": [
              "<div>\n",
              "<style scoped>\n",
              "    .dataframe tbody tr th:only-of-type {\n",
              "        vertical-align: middle;\n",
              "    }\n",
              "\n",
              "    .dataframe tbody tr th {\n",
              "        vertical-align: top;\n",
              "    }\n",
              "\n",
              "    .dataframe thead th {\n",
              "        text-align: right;\n",
              "    }\n",
              "</style>\n",
              "<table border=\"1\" class=\"dataframe\">\n",
              "  <thead>\n",
              "    <tr style=\"text-align: right;\">\n",
              "      <th></th>\n",
              "      <th>image_file</th>\n",
              "      <th>label</th>\n",
              "      <th>path</th>\n",
              "      <th>image</th>\n",
              "    </tr>\n",
              "  </thead>\n",
              "  <tbody>\n",
              "    <tr>\n",
              "      <th>0</th>\n",
              "      <td>DatasetGelap/DG1.jpg</td>\n",
              "      <td>Gelap</td>\n",
              "      <td>TA-18-051-Dataset/DatasetGelap/DG1.jpg</td>\n",
              "      <td>[[[168, 167, 162], [168, 167, 162], [166, 165,...</td>\n",
              "    </tr>\n",
              "    <tr>\n",
              "      <th>1</th>\n",
              "      <td>DatasetGelap/DG10.jpg</td>\n",
              "      <td>Gelap</td>\n",
              "      <td>TA-18-051-Dataset/DatasetGelap/DG10.jpg</td>\n",
              "      <td>[[[165, 165, 163], [170, 170, 168], [173, 173,...</td>\n",
              "    </tr>\n",
              "    <tr>\n",
              "      <th>2</th>\n",
              "      <td>DatasetGelap/DG11.jpg</td>\n",
              "      <td>Gelap</td>\n",
              "      <td>TA-18-051-Dataset/DatasetGelap/DG11.jpg</td>\n",
              "      <td>[[[163, 160, 155], [160, 157, 152], [161, 158,...</td>\n",
              "    </tr>\n",
              "    <tr>\n",
              "      <th>3</th>\n",
              "      <td>DatasetGelap/DG12.jpg</td>\n",
              "      <td>Gelap</td>\n",
              "      <td>TA-18-051-Dataset/DatasetGelap/DG12.jpg</td>\n",
              "      <td>[[[165, 162, 157], [163, 160, 155], [163, 160,...</td>\n",
              "    </tr>\n",
              "    <tr>\n",
              "      <th>4</th>\n",
              "      <td>DatasetGelap/DG13.jpg</td>\n",
              "      <td>Gelap</td>\n",
              "      <td>TA-18-051-Dataset/DatasetGelap/DG13.jpg</td>\n",
              "      <td>[[[163, 163, 161], [169, 169, 167], [163, 163,...</td>\n",
              "    </tr>\n",
              "  </tbody>\n",
              "</table>\n",
              "</div>"
            ],
            "text/plain": [
              "              image_file  label                                     path  \\\n",
              "0   DatasetGelap/DG1.jpg  Gelap   TA-18-051-Dataset/DatasetGelap/DG1.jpg   \n",
              "1  DatasetGelap/DG10.jpg  Gelap  TA-18-051-Dataset/DatasetGelap/DG10.jpg   \n",
              "2  DatasetGelap/DG11.jpg  Gelap  TA-18-051-Dataset/DatasetGelap/DG11.jpg   \n",
              "3  DatasetGelap/DG12.jpg  Gelap  TA-18-051-Dataset/DatasetGelap/DG12.jpg   \n",
              "4  DatasetGelap/DG13.jpg  Gelap  TA-18-051-Dataset/DatasetGelap/DG13.jpg   \n",
              "\n",
              "                                               image  \n",
              "0  [[[168, 167, 162], [168, 167, 162], [166, 165,...  \n",
              "1  [[[165, 165, 163], [170, 170, 168], [173, 173,...  \n",
              "2  [[[163, 160, 155], [160, 157, 152], [161, 158,...  \n",
              "3  [[[165, 162, 157], [163, 160, 155], [163, 160,...  \n",
              "4  [[[163, 163, 161], [169, 169, 167], [163, 163,...  "
            ]
          },
          "execution_count": 3,
          "metadata": {},
          "output_type": "execute_result"
        }
      ],
      "source": [
        "data['image'] = data['path'].map(lambda x: np.asarray(Image.open(x)))\n",
        "data.head()"
      ]
    },
    {
      "cell_type": "code",
      "execution_count": 4,
      "metadata": {
        "id": "GVKYtuMDr_Y5"
      },
      "outputs": [],
      "source": [
        "all_data = []\n",
        "\n",
        "for i in range(len(data)):\n",
        "    image = cv2.imread(data['path'][i])\n",
        "    image = cv2.resize(image, (250, 250))\n",
        "    label = 0 if data['label'][i] == 'Gelap' else 1\n",
        "    all_data.append([image, label])"
      ]
    },
    {
      "cell_type": "code",
      "execution_count": 5,
      "metadata": {
        "id": "rVPQ3sqvsVJc"
      },
      "outputs": [],
      "source": [
        "x = []\n",
        "y = []\n",
        "\n",
        "for image, label in all_data:\n",
        "    x.append(image)\n",
        "    y.append(label)\n",
        "\n",
        "x = np.array(x)\n",
        "y = np.array(y)"
      ]
    },
    {
      "cell_type": "code",
      "execution_count": 6,
      "metadata": {
        "id": "_8vujcpmXkag"
      },
      "outputs": [],
      "source": [
        "def map_data(folder_dir):\n",
        "  df = pd.DataFrame()\n",
        "  label = []\n",
        "  data_image = []\n",
        "  data = []\n",
        "  for folder in folder_dir:\n",
        "    print(folder)\n",
        "    for images in os.listdir(folder):\n",
        "      if images.endswith('.jpg'):\n",
        "        data_image.append(folder+images)\n",
        "        image = cv2.imread(folder+images)\n",
        "        image = cv2.cvtColor(image, cv2.COLOR_BGR2GRAY)\n",
        "        data.append(image)\n",
        "        if folder[-2] == 'p':\n",
        "          label.append(0)\n",
        "        elif folder[-2] == 'g':\n",
        "          label.append(1)\n",
        "        else:\n",
        "          label.append(1)\n",
        "  df['image'] = data_image\n",
        "  df['label'] = label\n",
        "  df['data'] = data\n",
        "  return df"
      ]
    },
    {
      "cell_type": "code",
      "execution_count": null,
      "metadata": {
        "colab": {
          "base_uri": "https://localhost:8080/",
          "height": 460
        },
        "id": "dY3F7WTLtuY7",
        "outputId": "9ae6713e-3756-4ecc-a836-514208416a78"
      },
      "outputs": [],
      "source": [
        "folder_dir = [data_dir + \"/DatasetGelap/\", data_dir + \"/DatasetTerang/\"]\n",
        "df_images = map_data(folder_dir)\n",
        "df_images"
      ]
    },
    {
      "cell_type": "markdown",
      "metadata": {
        "id": "wb6NggGCVnBt"
      },
      "source": [
        "### ***Pre-processing***"
      ]
    },
    {
      "cell_type": "code",
      "execution_count": 8,
      "metadata": {
        "colab": {
          "base_uri": "https://localhost:8080/",
          "height": 1000
        },
        "id": "25AALQCTYMEe",
        "outputId": "370bd65e-947c-49e0-80fa-f8c36512f707"
      },
      "outputs": [
        {
          "data": {
            "image/png": "[encoded data removed]",
            "text/plain": [
              "<Figure size 432x288 with 1 Axes>"
            ]
          },
          "metadata": {
            "needs_background": "light"
          },
          "output_type": "display_data"
        }
      ],
      "source": [
        "sampel = cv2.imread(\"TA-18-051-Dataset/DatasetGelap/DG10.jpg\")\n",
        "plt.imshow(sampel)\n",
        "plt.show()"
      ]
    },
    {
      "cell_type": "code",
      "execution_count": 9,
      "metadata": {
        "colab": {
          "base_uri": "https://localhost:8080/",
          "height": 241
        },
        "id": "KglQUGUmYYZG",
        "outputId": "4b0a8f19-18c4-417a-cc30-d5fb0e478f78"
      },
      "outputs": [
        {
          "data": {
            "text/plain": [
              "<matplotlib.image.AxesImage at 0x1eb86116680>"
            ]
          },
          "execution_count": 9,
          "metadata": {},
          "output_type": "execute_result"
        },
        {
          "data": {
            "image/png": "[encoded data removed]",
            "text/plain": [
              "<Figure size 432x288 with 1 Axes>"
            ]
          },
          "metadata": {
            "needs_background": "light"
          },
          "output_type": "display_data"
        }
      ],
      "source": [
        "resized = cv2.resize(sampel, (224, 224), interpolation = cv2.INTER_AREA)\n",
        "plt.imshow(resized)"
      ]
    },
    {
      "cell_type": "code",
      "execution_count": 10,
      "metadata": {
        "colab": {
          "base_uri": "https://localhost:8080/",
          "height": 241
        },
        "id": "P3TIROMWYdDx",
        "outputId": "c8dc1bb0-f396-47d2-c9ad-f5386909e0de"
      },
      "outputs": [
        {
          "data": {
            "text/plain": [
              "<matplotlib.image.AxesImage at 0x1eb881188e0>"
            ]
          },
          "execution_count": 10,
          "metadata": {},
          "output_type": "execute_result"
        },
        {
          "data": {
            "image/png": "[encoded data removed]",
            "text/plain": [
              "<Figure size 432x288 with 1 Axes>"
            ]
          },
          "metadata": {
            "needs_background": "light"
          },
          "output_type": "display_data"
        }
      ],
      "source": [
        "gray = cv2.cvtColor(resized, cv2.COLOR_BGR2GRAY)\n",
        "plt.imshow(gray)"
      ]
    },
    {
      "cell_type": "code",
      "execution_count": 11,
      "metadata": {
        "colab": {
          "base_uri": "https://localhost:8080/",
          "height": 241
        },
        "id": "ZDn5uxUkYhVw",
        "outputId": "a04aac83-d7b9-40e3-f07f-71c1934bcdfa"
      },
      "outputs": [
        {
          "data": {
            "text/plain": [
              "<matplotlib.image.AxesImage at 0x1eb881762c0>"
            ]
          },
          "execution_count": 11,
          "metadata": {},
          "output_type": "execute_result"
        },
        {
          "data": {
            "image/png": "[encoded data removed]",
            "text/plain": [
              "<Figure size 432x288 with 1 Axes>"
            ]
          },
          "metadata": {
            "needs_background": "light"
          },
          "output_type": "display_data"
        }
      ],
      "source": [
        "t = 80\n",
        "maxvalue = 255\n",
        "th, dst = cv2.threshold(gray, t, maxvalue, cv2.THRESH_OTSU)\n",
        "plt.imshow(dst)"
      ]
    },
    {
      "cell_type": "code",
      "execution_count": 12,
      "metadata": {
        "id": "M75JzpmWs_-J"
      },
      "outputs": [],
      "source": [
        "def stats(data_dir):\n",
        "    mean = []\n",
        "    std = []\n",
        "    var = []\n",
        "    y = []\n",
        "    for level in data_dir:\n",
        "        for images in os.listdir(level):\n",
        "            if images.endswith('.jpg'):\n",
        "                image = cv2.imread(level+images)\n",
        "                image = cv2.cvtColor(image, cv2.COLOR_BGR2GRAY)\n",
        "                mean_temp = np.mean(image)\n",
        "                std_temp = np.std(image)\n",
        "                var_temp = np.var(image)\n",
        "                mean.append(mean_temp)\n",
        "                std.append(std_temp)\n",
        "                var.append(var_temp)\n",
        "                if level[-2] == 'p':\n",
        "                    y.append(0)\n",
        "                elif level[-2] == 'g':\n",
        "                    y.append(1)\n",
        "                else:\n",
        "                    y.append(1)\n",
        "    return mean, std, var, y"
      ]
    },
    {
      "cell_type": "markdown",
      "metadata": {
        "id": "MNB01OOCWP6x"
      },
      "source": [
        "### **Ekstraksi Ciri Statistik Orde Pertama**"
      ]
    },
    {
      "cell_type": "code",
      "execution_count": null,
      "metadata": {
        "colab": {
          "base_uri": "https://localhost:8080/",
          "height": 423
        },
        "id": "bMcg25udYm_q",
        "outputId": "ba4bac1b-db6d-46a7-ae63-d7d0c147145a"
      },
      "outputs": [],
      "source": [
        "def preprocessing(df):\n",
        "  mean = []\n",
        "  std = []\n",
        "  var = []\n",
        "  t = 80\n",
        "  maxvalue = 255\n",
        "  for i in range(len(df['image'])):\n",
        "    image = cv2.resize(df.iloc[i, 2], (250, 250), interpolation = cv2.INTER_AREA)\n",
        "    th, dst = cv2.threshold(image, t, maxvalue, cv2.THRESH_OTSU)\n",
        "    mean_temp = np.mean(df.iloc[i, 2])\n",
        "    std_temp = np.std(df.iloc[i, 2])\n",
        "    var_temp = np.var(df.iloc[i, 2])\n",
        "    mean.append(mean_temp)\n",
        "    std.append(std_temp)\n",
        "    var.append(var_temp)\n",
        "  return mean, std, var\n",
        "\n",
        "mean, std, var = preprocessing(df_images)\n",
        "df_images['mean'] = mean\n",
        "df_images['std'] = std\n",
        "df_images['var'] = var\n",
        "df_images"
      ]
    },
    {
      "cell_type": "code",
      "execution_count": 14,
      "metadata": {
        "colab": {
          "base_uri": "https://localhost:8080/",
          "height": 423
        },
        "id": "8KBE7XdqvDey",
        "outputId": "88ccdea6-81a4-4e62-93ab-5925e47acff2"
      },
      "outputs": [
        {
          "data": {
            "text/html": [
              "<div>\n",
              "<style scoped>\n",
              "    .dataframe tbody tr th:only-of-type {\n",
              "        vertical-align: middle;\n",
              "    }\n",
              "\n",
              "    .dataframe tbody tr th {\n",
              "        vertical-align: top;\n",
              "    }\n",
              "\n",
              "    .dataframe thead th {\n",
              "        text-align: right;\n",
              "    }\n",
              "</style>\n",
              "<table border=\"1\" class=\"dataframe\">\n",
              "  <thead>\n",
              "    <tr style=\"text-align: right;\">\n",
              "      <th></th>\n",
              "      <th>mean</th>\n",
              "      <th>std</th>\n",
              "      <th>var</th>\n",
              "    </tr>\n",
              "  </thead>\n",
              "  <tbody>\n",
              "    <tr>\n",
              "      <th>0</th>\n",
              "      <td>168.567957</td>\n",
              "      <td>23.269836</td>\n",
              "      <td>541.485245</td>\n",
              "    </tr>\n",
              "    <tr>\n",
              "      <th>1</th>\n",
              "      <td>173.632889</td>\n",
              "      <td>21.490806</td>\n",
              "      <td>461.854726</td>\n",
              "    </tr>\n",
              "    <tr>\n",
              "      <th>2</th>\n",
              "      <td>160.656776</td>\n",
              "      <td>24.323203</td>\n",
              "      <td>591.618215</td>\n",
              "    </tr>\n",
              "    <tr>\n",
              "      <th>3</th>\n",
              "      <td>160.093642</td>\n",
              "      <td>25.655307</td>\n",
              "      <td>658.194783</td>\n",
              "    </tr>\n",
              "    <tr>\n",
              "      <th>4</th>\n",
              "      <td>165.219074</td>\n",
              "      <td>22.000977</td>\n",
              "      <td>484.043000</td>\n",
              "    </tr>\n",
              "    <tr>\n",
              "      <th>...</th>\n",
              "      <td>...</td>\n",
              "      <td>...</td>\n",
              "      <td>...</td>\n",
              "    </tr>\n",
              "    <tr>\n",
              "      <th>75</th>\n",
              "      <td>169.372958</td>\n",
              "      <td>29.278817</td>\n",
              "      <td>857.249112</td>\n",
              "    </tr>\n",
              "    <tr>\n",
              "      <th>76</th>\n",
              "      <td>159.642658</td>\n",
              "      <td>27.244820</td>\n",
              "      <td>742.280196</td>\n",
              "    </tr>\n",
              "    <tr>\n",
              "      <th>77</th>\n",
              "      <td>168.191607</td>\n",
              "      <td>25.069889</td>\n",
              "      <td>628.499332</td>\n",
              "    </tr>\n",
              "    <tr>\n",
              "      <th>78</th>\n",
              "      <td>160.603099</td>\n",
              "      <td>24.876960</td>\n",
              "      <td>618.863132</td>\n",
              "    </tr>\n",
              "    <tr>\n",
              "      <th>79</th>\n",
              "      <td>161.362610</td>\n",
              "      <td>27.843558</td>\n",
              "      <td>775.263720</td>\n",
              "    </tr>\n",
              "  </tbody>\n",
              "</table>\n",
              "<p>80 rows × 3 columns</p>\n",
              "</div>"
            ],
            "text/plain": [
              "          mean        std         var\n",
              "0   168.567957  23.269836  541.485245\n",
              "1   173.632889  21.490806  461.854726\n",
              "2   160.656776  24.323203  591.618215\n",
              "3   160.093642  25.655307  658.194783\n",
              "4   165.219074  22.000977  484.043000\n",
              "..         ...        ...         ...\n",
              "75  169.372958  29.278817  857.249112\n",
              "76  159.642658  27.244820  742.280196\n",
              "77  168.191607  25.069889  628.499332\n",
              "78  160.603099  24.876960  618.863132\n",
              "79  161.362610  27.843558  775.263720\n",
              "\n",
              "[80 rows x 3 columns]"
            ]
          },
          "execution_count": 14,
          "metadata": {},
          "output_type": "execute_result"
        }
      ],
      "source": [
        "X = df_images[['mean', 'std', 'var']]\n",
        "X"
      ]
    },
    {
      "cell_type": "code",
      "execution_count": 15,
      "metadata": {
        "colab": {
          "base_uri": "https://localhost:8080/",
          "height": 423
        },
        "id": "uXGg4brtvNkS",
        "outputId": "b251301b-ef13-42f9-da47-84305efd2328"
      },
      "outputs": [
        {
          "data": {
            "text/html": [
              "<div>\n",
              "<style scoped>\n",
              "    .dataframe tbody tr th:only-of-type {\n",
              "        vertical-align: middle;\n",
              "    }\n",
              "\n",
              "    .dataframe tbody tr th {\n",
              "        vertical-align: top;\n",
              "    }\n",
              "\n",
              "    .dataframe thead th {\n",
              "        text-align: right;\n",
              "    }\n",
              "</style>\n",
              "<table border=\"1\" class=\"dataframe\">\n",
              "  <thead>\n",
              "    <tr style=\"text-align: right;\">\n",
              "      <th></th>\n",
              "      <th>label</th>\n",
              "    </tr>\n",
              "  </thead>\n",
              "  <tbody>\n",
              "    <tr>\n",
              "      <th>0</th>\n",
              "      <td>0</td>\n",
              "    </tr>\n",
              "    <tr>\n",
              "      <th>1</th>\n",
              "      <td>0</td>\n",
              "    </tr>\n",
              "    <tr>\n",
              "      <th>2</th>\n",
              "      <td>0</td>\n",
              "    </tr>\n",
              "    <tr>\n",
              "      <th>3</th>\n",
              "      <td>0</td>\n",
              "    </tr>\n",
              "    <tr>\n",
              "      <th>4</th>\n",
              "      <td>0</td>\n",
              "    </tr>\n",
              "    <tr>\n",
              "      <th>...</th>\n",
              "      <td>...</td>\n",
              "    </tr>\n",
              "    <tr>\n",
              "      <th>75</th>\n",
              "      <td>1</td>\n",
              "    </tr>\n",
              "    <tr>\n",
              "      <th>76</th>\n",
              "      <td>1</td>\n",
              "    </tr>\n",
              "    <tr>\n",
              "      <th>77</th>\n",
              "      <td>1</td>\n",
              "    </tr>\n",
              "    <tr>\n",
              "      <th>78</th>\n",
              "      <td>1</td>\n",
              "    </tr>\n",
              "    <tr>\n",
              "      <th>79</th>\n",
              "      <td>1</td>\n",
              "    </tr>\n",
              "  </tbody>\n",
              "</table>\n",
              "<p>80 rows × 1 columns</p>\n",
              "</div>"
            ],
            "text/plain": [
              "    label\n",
              "0       0\n",
              "1       0\n",
              "2       0\n",
              "3       0\n",
              "4       0\n",
              "..    ...\n",
              "75      1\n",
              "76      1\n",
              "77      1\n",
              "78      1\n",
              "79      1\n",
              "\n",
              "[80 rows x 1 columns]"
            ]
          },
          "execution_count": 15,
          "metadata": {},
          "output_type": "execute_result"
        }
      ],
      "source": [
        "y = df_images[['label']]\n",
        "y"
      ]
    },
    {
      "cell_type": "markdown",
      "metadata": {
        "id": "V-iNHtOtWV8M"
      },
      "source": [
        "### **Training & Testing Model Statistik Orde Pertama**"
      ]
    },
    {
      "cell_type": "code",
      "execution_count": 16,
      "metadata": {
        "colab": {
          "base_uri": "https://localhost:8080/",
          "height": 1000
        },
        "id": "41A_WXszvT7g",
        "outputId": "17f05b64-f4ed-4c63-a5d3-bb51ea508def"
      },
      "outputs": [
        {
          "data": {
            "text/html": [
              "<div>\n",
              "<style scoped>\n",
              "    .dataframe tbody tr th:only-of-type {\n",
              "        vertical-align: middle;\n",
              "    }\n",
              "\n",
              "    .dataframe tbody tr th {\n",
              "        vertical-align: top;\n",
              "    }\n",
              "\n",
              "    .dataframe thead th {\n",
              "        text-align: right;\n",
              "    }\n",
              "</style>\n",
              "<table border=\"1\" class=\"dataframe\">\n",
              "  <thead>\n",
              "    <tr style=\"text-align: right;\">\n",
              "      <th></th>\n",
              "      <th>mean</th>\n",
              "      <th>std</th>\n",
              "      <th>var</th>\n",
              "    </tr>\n",
              "  </thead>\n",
              "  <tbody>\n",
              "    <tr>\n",
              "      <th>33</th>\n",
              "      <td>168.664946</td>\n",
              "      <td>24.334662</td>\n",
              "      <td>592.175753</td>\n",
              "    </tr>\n",
              "    <tr>\n",
              "      <th>53</th>\n",
              "      <td>160.551983</td>\n",
              "      <td>20.750739</td>\n",
              "      <td>430.593153</td>\n",
              "    </tr>\n",
              "    <tr>\n",
              "      <th>28</th>\n",
              "      <td>154.672116</td>\n",
              "      <td>32.695616</td>\n",
              "      <td>1069.003313</td>\n",
              "    </tr>\n",
              "    <tr>\n",
              "      <th>11</th>\n",
              "      <td>168.619856</td>\n",
              "      <td>23.829312</td>\n",
              "      <td>567.836096</td>\n",
              "    </tr>\n",
              "    <tr>\n",
              "      <th>57</th>\n",
              "      <td>155.737202</td>\n",
              "      <td>30.525793</td>\n",
              "      <td>931.824032</td>\n",
              "    </tr>\n",
              "    <tr>\n",
              "      <th>23</th>\n",
              "      <td>156.751045</td>\n",
              "      <td>37.823166</td>\n",
              "      <td>1430.591858</td>\n",
              "    </tr>\n",
              "    <tr>\n",
              "      <th>10</th>\n",
              "      <td>168.582740</td>\n",
              "      <td>19.452627</td>\n",
              "      <td>378.404693</td>\n",
              "    </tr>\n",
              "    <tr>\n",
              "      <th>31</th>\n",
              "      <td>158.377463</td>\n",
              "      <td>35.015746</td>\n",
              "      <td>1226.102448</td>\n",
              "    </tr>\n",
              "    <tr>\n",
              "      <th>43</th>\n",
              "      <td>159.360731</td>\n",
              "      <td>23.173923</td>\n",
              "      <td>537.030706</td>\n",
              "    </tr>\n",
              "    <tr>\n",
              "      <th>61</th>\n",
              "      <td>157.134005</td>\n",
              "      <td>37.291909</td>\n",
              "      <td>1390.686501</td>\n",
              "    </tr>\n",
              "    <tr>\n",
              "      <th>1</th>\n",
              "      <td>173.632889</td>\n",
              "      <td>21.490806</td>\n",
              "      <td>461.854726</td>\n",
              "    </tr>\n",
              "    <tr>\n",
              "      <th>32</th>\n",
              "      <td>155.278914</td>\n",
              "      <td>34.726477</td>\n",
              "      <td>1205.928200</td>\n",
              "    </tr>\n",
              "    <tr>\n",
              "      <th>75</th>\n",
              "      <td>169.372958</td>\n",
              "      <td>29.278817</td>\n",
              "      <td>857.249112</td>\n",
              "    </tr>\n",
              "    <tr>\n",
              "      <th>14</th>\n",
              "      <td>158.675312</td>\n",
              "      <td>19.674325</td>\n",
              "      <td>387.079076</td>\n",
              "    </tr>\n",
              "    <tr>\n",
              "      <th>54</th>\n",
              "      <td>160.538415</td>\n",
              "      <td>22.407863</td>\n",
              "      <td>502.112308</td>\n",
              "    </tr>\n",
              "    <tr>\n",
              "      <th>19</th>\n",
              "      <td>155.238434</td>\n",
              "      <td>33.833829</td>\n",
              "      <td>1144.727994</td>\n",
              "    </tr>\n",
              "    <tr>\n",
              "      <th>29</th>\n",
              "      <td>150.742492</td>\n",
              "      <td>37.575634</td>\n",
              "      <td>1411.928296</td>\n",
              "    </tr>\n",
              "    <tr>\n",
              "      <th>49</th>\n",
              "      <td>170.206255</td>\n",
              "      <td>20.056454</td>\n",
              "      <td>402.261349</td>\n",
              "    </tr>\n",
              "    <tr>\n",
              "      <th>24</th>\n",
              "      <td>156.407036</td>\n",
              "      <td>33.047474</td>\n",
              "      <td>1092.135512</td>\n",
              "    </tr>\n",
              "    <tr>\n",
              "      <th>35</th>\n",
              "      <td>160.432345</td>\n",
              "      <td>27.275298</td>\n",
              "      <td>743.941885</td>\n",
              "    </tr>\n",
              "    <tr>\n",
              "      <th>18</th>\n",
              "      <td>154.740487</td>\n",
              "      <td>34.325732</td>\n",
              "      <td>1178.255896</td>\n",
              "    </tr>\n",
              "    <tr>\n",
              "      <th>0</th>\n",
              "      <td>168.567957</td>\n",
              "      <td>23.269836</td>\n",
              "      <td>541.485245</td>\n",
              "    </tr>\n",
              "    <tr>\n",
              "      <th>78</th>\n",
              "      <td>160.603099</td>\n",
              "      <td>24.876960</td>\n",
              "      <td>618.863132</td>\n",
              "    </tr>\n",
              "    <tr>\n",
              "      <th>15</th>\n",
              "      <td>160.820284</td>\n",
              "      <td>21.481808</td>\n",
              "      <td>461.468073</td>\n",
              "    </tr>\n",
              "    <tr>\n",
              "      <th>5</th>\n",
              "      <td>169.541492</td>\n",
              "      <td>22.327433</td>\n",
              "      <td>498.514260</td>\n",
              "    </tr>\n",
              "    <tr>\n",
              "      <th>59</th>\n",
              "      <td>161.397499</td>\n",
              "      <td>20.819427</td>\n",
              "      <td>433.448527</td>\n",
              "    </tr>\n",
              "    <tr>\n",
              "      <th>16</th>\n",
              "      <td>163.911119</td>\n",
              "      <td>21.152870</td>\n",
              "      <td>447.443915</td>\n",
              "    </tr>\n",
              "    <tr>\n",
              "      <th>51</th>\n",
              "      <td>162.506793</td>\n",
              "      <td>25.613595</td>\n",
              "      <td>656.056256</td>\n",
              "    </tr>\n",
              "    <tr>\n",
              "      <th>20</th>\n",
              "      <td>157.050592</td>\n",
              "      <td>34.990573</td>\n",
              "      <td>1224.340200</td>\n",
              "    </tr>\n",
              "    <tr>\n",
              "      <th>74</th>\n",
              "      <td>159.130555</td>\n",
              "      <td>24.591626</td>\n",
              "      <td>604.748054</td>\n",
              "    </tr>\n",
              "    <tr>\n",
              "      <th>8</th>\n",
              "      <td>166.509085</td>\n",
              "      <td>20.726178</td>\n",
              "      <td>429.574462</td>\n",
              "    </tr>\n",
              "    <tr>\n",
              "      <th>13</th>\n",
              "      <td>167.271667</td>\n",
              "      <td>22.098429</td>\n",
              "      <td>488.340550</td>\n",
              "    </tr>\n",
              "    <tr>\n",
              "      <th>25</th>\n",
              "      <td>156.506695</td>\n",
              "      <td>35.008860</td>\n",
              "      <td>1225.620284</td>\n",
              "    </tr>\n",
              "    <tr>\n",
              "      <th>37</th>\n",
              "      <td>162.422300</td>\n",
              "      <td>37.123729</td>\n",
              "      <td>1378.171291</td>\n",
              "    </tr>\n",
              "    <tr>\n",
              "      <th>46</th>\n",
              "      <td>160.161628</td>\n",
              "      <td>23.168417</td>\n",
              "      <td>536.775558</td>\n",
              "    </tr>\n",
              "    <tr>\n",
              "      <th>39</th>\n",
              "      <td>157.554588</td>\n",
              "      <td>33.716701</td>\n",
              "      <td>1136.815920</td>\n",
              "    </tr>\n",
              "    <tr>\n",
              "      <th>65</th>\n",
              "      <td>156.674489</td>\n",
              "      <td>37.591097</td>\n",
              "      <td>1413.090558</td>\n",
              "    </tr>\n",
              "    <tr>\n",
              "      <th>58</th>\n",
              "      <td>155.084089</td>\n",
              "      <td>39.654731</td>\n",
              "      <td>1572.497722</td>\n",
              "    </tr>\n",
              "    <tr>\n",
              "      <th>12</th>\n",
              "      <td>166.841979</td>\n",
              "      <td>21.439639</td>\n",
              "      <td>459.658118</td>\n",
              "    </tr>\n",
              "    <tr>\n",
              "      <th>70</th>\n",
              "      <td>157.864413</td>\n",
              "      <td>25.561521</td>\n",
              "      <td>653.391380</td>\n",
              "    </tr>\n",
              "    <tr>\n",
              "      <th>36</th>\n",
              "      <td>156.511271</td>\n",
              "      <td>28.976325</td>\n",
              "      <td>839.627423</td>\n",
              "    </tr>\n",
              "    <tr>\n",
              "      <th>21</th>\n",
              "      <td>157.119022</td>\n",
              "      <td>34.031385</td>\n",
              "      <td>1158.135142</td>\n",
              "    </tr>\n",
              "    <tr>\n",
              "      <th>9</th>\n",
              "      <td>163.875265</td>\n",
              "      <td>19.409720</td>\n",
              "      <td>376.737248</td>\n",
              "    </tr>\n",
              "    <tr>\n",
              "      <th>76</th>\n",
              "      <td>159.642658</td>\n",
              "      <td>27.244820</td>\n",
              "      <td>742.280196</td>\n",
              "    </tr>\n",
              "    <tr>\n",
              "      <th>67</th>\n",
              "      <td>158.403662</td>\n",
              "      <td>29.690783</td>\n",
              "      <td>881.542575</td>\n",
              "    </tr>\n",
              "    <tr>\n",
              "      <th>64</th>\n",
              "      <td>156.087282</td>\n",
              "      <td>38.387901</td>\n",
              "      <td>1473.630977</td>\n",
              "    </tr>\n",
              "    <tr>\n",
              "      <th>47</th>\n",
              "      <td>168.378129</td>\n",
              "      <td>25.982626</td>\n",
              "      <td>675.096864</td>\n",
              "    </tr>\n",
              "    <tr>\n",
              "      <th>44</th>\n",
              "      <td>167.274801</td>\n",
              "      <td>27.864716</td>\n",
              "      <td>776.442398</td>\n",
              "    </tr>\n",
              "  </tbody>\n",
              "</table>\n",
              "</div>"
            ],
            "text/plain": [
              "          mean        std          var\n",
              "33  168.664946  24.334662   592.175753\n",
              "53  160.551983  20.750739   430.593153\n",
              "28  154.672116  32.695616  1069.003313\n",
              "11  168.619856  23.829312   567.836096\n",
              "57  155.737202  30.525793   931.824032\n",
              "23  156.751045  37.823166  1430.591858\n",
              "10  168.582740  19.452627   378.404693\n",
              "31  158.377463  35.015746  1226.102448\n",
              "43  159.360731  23.173923   537.030706\n",
              "61  157.134005  37.291909  1390.686501\n",
              "1   173.632889  21.490806   461.854726\n",
              "32  155.278914  34.726477  1205.928200\n",
              "75  169.372958  29.278817   857.249112\n",
              "14  158.675312  19.674325   387.079076\n",
              "54  160.538415  22.407863   502.112308\n",
              "19  155.238434  33.833829  1144.727994\n",
              "29  150.742492  37.575634  1411.928296\n",
              "49  170.206255  20.056454   402.261349\n",
              "24  156.407036  33.047474  1092.135512\n",
              "35  160.432345  27.275298   743.941885\n",
              "18  154.740487  34.325732  1178.255896\n",
              "0   168.567957  23.269836   541.485245\n",
              "78  160.603099  24.876960   618.863132\n",
              "15  160.820284  21.481808   461.468073\n",
              "5   169.541492  22.327433   498.514260\n",
              "59  161.397499  20.819427   433.448527\n",
              "16  163.911119  21.152870   447.443915\n",
              "51  162.506793  25.613595   656.056256\n",
              "20  157.050592  34.990573  1224.340200\n",
              "74  159.130555  24.591626   604.748054\n",
              "8   166.509085  20.726178   429.574462\n",
              "13  167.271667  22.098429   488.340550\n",
              "25  156.506695  35.008860  1225.620284\n",
              "37  162.422300  37.123729  1378.171291\n",
              "46  160.161628  23.168417   536.775558\n",
              "39  157.554588  33.716701  1136.815920\n",
              "65  156.674489  37.591097  1413.090558\n",
              "58  155.084089  39.654731  1572.497722\n",
              "12  166.841979  21.439639   459.658118\n",
              "70  157.864413  25.561521   653.391380\n",
              "36  156.511271  28.976325   839.627423\n",
              "21  157.119022  34.031385  1158.135142\n",
              "9   163.875265  19.409720   376.737248\n",
              "76  159.642658  27.244820   742.280196\n",
              "67  158.403662  29.690783   881.542575\n",
              "64  156.087282  38.387901  1473.630977\n",
              "47  168.378129  25.982626   675.096864\n",
              "44  167.274801  27.864716   776.442398"
            ]
          },
          "execution_count": 16,
          "metadata": {},
          "output_type": "execute_result"
        }
      ],
      "source": [
        "X_train, X_test, y_train, y_test = train_test_split(X, y, test_size = 0.4)\n",
        "X_train"
      ]
    },
    {
      "cell_type": "code",
      "execution_count": 17,
      "metadata": {
        "colab": {
          "base_uri": "https://localhost:8080/",
          "height": 1000
        },
        "id": "7oX3IOibBILA",
        "outputId": "9fa5d7ae-1783-47e3-af05-2bdc65045270"
      },
      "outputs": [
        {
          "data": {
            "text/html": [
              "<div>\n",
              "<style scoped>\n",
              "    .dataframe tbody tr th:only-of-type {\n",
              "        vertical-align: middle;\n",
              "    }\n",
              "\n",
              "    .dataframe tbody tr th {\n",
              "        vertical-align: top;\n",
              "    }\n",
              "\n",
              "    .dataframe thead th {\n",
              "        text-align: right;\n",
              "    }\n",
              "</style>\n",
              "<table border=\"1\" class=\"dataframe\">\n",
              "  <thead>\n",
              "    <tr style=\"text-align: right;\">\n",
              "      <th></th>\n",
              "      <th>mean</th>\n",
              "      <th>std</th>\n",
              "      <th>var</th>\n",
              "    </tr>\n",
              "  </thead>\n",
              "  <tbody>\n",
              "    <tr>\n",
              "      <th>50</th>\n",
              "      <td>165.585678</td>\n",
              "      <td>23.989003</td>\n",
              "      <td>575.472262</td>\n",
              "    </tr>\n",
              "    <tr>\n",
              "      <th>27</th>\n",
              "      <td>154.081774</td>\n",
              "      <td>35.079156</td>\n",
              "      <td>1230.547155</td>\n",
              "    </tr>\n",
              "    <tr>\n",
              "      <th>30</th>\n",
              "      <td>155.165820</td>\n",
              "      <td>32.843830</td>\n",
              "      <td>1078.717193</td>\n",
              "    </tr>\n",
              "    <tr>\n",
              "      <th>77</th>\n",
              "      <td>168.191607</td>\n",
              "      <td>25.069889</td>\n",
              "      <td>628.499332</td>\n",
              "    </tr>\n",
              "    <tr>\n",
              "      <th>45</th>\n",
              "      <td>166.753188</td>\n",
              "      <td>22.051435</td>\n",
              "      <td>486.265764</td>\n",
              "    </tr>\n",
              "    <tr>\n",
              "      <th>71</th>\n",
              "      <td>156.940420</td>\n",
              "      <td>33.680660</td>\n",
              "      <td>1134.386847</td>\n",
              "    </tr>\n",
              "    <tr>\n",
              "      <th>66</th>\n",
              "      <td>158.322368</td>\n",
              "      <td>35.578637</td>\n",
              "      <td>1265.839389</td>\n",
              "    </tr>\n",
              "    <tr>\n",
              "      <th>68</th>\n",
              "      <td>158.902404</td>\n",
              "      <td>29.580420</td>\n",
              "      <td>875.001262</td>\n",
              "    </tr>\n",
              "    <tr>\n",
              "      <th>48</th>\n",
              "      <td>169.434057</td>\n",
              "      <td>25.742978</td>\n",
              "      <td>662.700893</td>\n",
              "    </tr>\n",
              "    <tr>\n",
              "      <th>69</th>\n",
              "      <td>156.372320</td>\n",
              "      <td>36.690736</td>\n",
              "      <td>1346.210082</td>\n",
              "    </tr>\n",
              "    <tr>\n",
              "      <th>40</th>\n",
              "      <td>152.244734</td>\n",
              "      <td>31.208924</td>\n",
              "      <td>973.996960</td>\n",
              "    </tr>\n",
              "    <tr>\n",
              "      <th>63</th>\n",
              "      <td>157.774432</td>\n",
              "      <td>35.205177</td>\n",
              "      <td>1239.404479</td>\n",
              "    </tr>\n",
              "    <tr>\n",
              "      <th>2</th>\n",
              "      <td>160.656776</td>\n",
              "      <td>24.323203</td>\n",
              "      <td>591.618215</td>\n",
              "    </tr>\n",
              "    <tr>\n",
              "      <th>72</th>\n",
              "      <td>161.773732</td>\n",
              "      <td>33.098911</td>\n",
              "      <td>1095.537894</td>\n",
              "    </tr>\n",
              "    <tr>\n",
              "      <th>52</th>\n",
              "      <td>159.302251</td>\n",
              "      <td>21.233112</td>\n",
              "      <td>450.845039</td>\n",
              "    </tr>\n",
              "    <tr>\n",
              "      <th>34</th>\n",
              "      <td>153.106736</td>\n",
              "      <td>29.844057</td>\n",
              "      <td>890.667745</td>\n",
              "    </tr>\n",
              "    <tr>\n",
              "      <th>3</th>\n",
              "      <td>160.093642</td>\n",
              "      <td>25.655307</td>\n",
              "      <td>658.194783</td>\n",
              "    </tr>\n",
              "    <tr>\n",
              "      <th>22</th>\n",
              "      <td>161.578767</td>\n",
              "      <td>23.447632</td>\n",
              "      <td>549.791427</td>\n",
              "    </tr>\n",
              "    <tr>\n",
              "      <th>7</th>\n",
              "      <td>160.034757</td>\n",
              "      <td>23.652117</td>\n",
              "      <td>559.422662</td>\n",
              "    </tr>\n",
              "    <tr>\n",
              "      <th>26</th>\n",
              "      <td>156.460078</td>\n",
              "      <td>36.323396</td>\n",
              "      <td>1319.389110</td>\n",
              "    </tr>\n",
              "    <tr>\n",
              "      <th>42</th>\n",
              "      <td>153.773707</td>\n",
              "      <td>31.339635</td>\n",
              "      <td>982.172734</td>\n",
              "    </tr>\n",
              "    <tr>\n",
              "      <th>38</th>\n",
              "      <td>151.169652</td>\n",
              "      <td>29.441284</td>\n",
              "      <td>866.789193</td>\n",
              "    </tr>\n",
              "    <tr>\n",
              "      <th>41</th>\n",
              "      <td>164.655956</td>\n",
              "      <td>38.106632</td>\n",
              "      <td>1452.115427</td>\n",
              "    </tr>\n",
              "    <tr>\n",
              "      <th>79</th>\n",
              "      <td>161.362610</td>\n",
              "      <td>27.843558</td>\n",
              "      <td>775.263720</td>\n",
              "    </tr>\n",
              "    <tr>\n",
              "      <th>55</th>\n",
              "      <td>159.057488</td>\n",
              "      <td>22.141901</td>\n",
              "      <td>490.263793</td>\n",
              "    </tr>\n",
              "    <tr>\n",
              "      <th>17</th>\n",
              "      <td>155.431335</td>\n",
              "      <td>32.066715</td>\n",
              "      <td>1028.274199</td>\n",
              "    </tr>\n",
              "    <tr>\n",
              "      <th>60</th>\n",
              "      <td>154.201067</td>\n",
              "      <td>34.068058</td>\n",
              "      <td>1160.632586</td>\n",
              "    </tr>\n",
              "    <tr>\n",
              "      <th>62</th>\n",
              "      <td>157.765579</td>\n",
              "      <td>35.301450</td>\n",
              "      <td>1246.192382</td>\n",
              "    </tr>\n",
              "    <tr>\n",
              "      <th>6</th>\n",
              "      <td>162.741604</td>\n",
              "      <td>22.766599</td>\n",
              "      <td>518.318013</td>\n",
              "    </tr>\n",
              "    <tr>\n",
              "      <th>56</th>\n",
              "      <td>157.700631</td>\n",
              "      <td>28.901732</td>\n",
              "      <td>835.310120</td>\n",
              "    </tr>\n",
              "    <tr>\n",
              "      <th>73</th>\n",
              "      <td>160.505534</td>\n",
              "      <td>32.689085</td>\n",
              "      <td>1068.576266</td>\n",
              "    </tr>\n",
              "    <tr>\n",
              "      <th>4</th>\n",
              "      <td>165.219074</td>\n",
              "      <td>22.000977</td>\n",
              "      <td>484.043000</td>\n",
              "    </tr>\n",
              "  </tbody>\n",
              "</table>\n",
              "</div>"
            ],
            "text/plain": [
              "          mean        std          var\n",
              "50  165.585678  23.989003   575.472262\n",
              "27  154.081774  35.079156  1230.547155\n",
              "30  155.165820  32.843830  1078.717193\n",
              "77  168.191607  25.069889   628.499332\n",
              "45  166.753188  22.051435   486.265764\n",
              "71  156.940420  33.680660  1134.386847\n",
              "66  158.322368  35.578637  1265.839389\n",
              "68  158.902404  29.580420   875.001262\n",
              "48  169.434057  25.742978   662.700893\n",
              "69  156.372320  36.690736  1346.210082\n",
              "40  152.244734  31.208924   973.996960\n",
              "63  157.774432  35.205177  1239.404479\n",
              "2   160.656776  24.323203   591.618215\n",
              "72  161.773732  33.098911  1095.537894\n",
              "52  159.302251  21.233112   450.845039\n",
              "34  153.106736  29.844057   890.667745\n",
              "3   160.093642  25.655307   658.194783\n",
              "22  161.578767  23.447632   549.791427\n",
              "7   160.034757  23.652117   559.422662\n",
              "26  156.460078  36.323396  1319.389110\n",
              "42  153.773707  31.339635   982.172734\n",
              "38  151.169652  29.441284   866.789193\n",
              "41  164.655956  38.106632  1452.115427\n",
              "79  161.362610  27.843558   775.263720\n",
              "55  159.057488  22.141901   490.263793\n",
              "17  155.431335  32.066715  1028.274199\n",
              "60  154.201067  34.068058  1160.632586\n",
              "62  157.765579  35.301450  1246.192382\n",
              "6   162.741604  22.766599   518.318013\n",
              "56  157.700631  28.901732   835.310120\n",
              "73  160.505534  32.689085  1068.576266\n",
              "4   165.219074  22.000977   484.043000"
            ]
          },
          "execution_count": 17,
          "metadata": {},
          "output_type": "execute_result"
        }
      ],
      "source": [
        "X_test"
      ]
    },
    {
      "cell_type": "markdown",
      "metadata": {
        "id": "IwqXAnfbW19H"
      },
      "source": [
        "### ***Confusion Matrix***"
      ]
    },
    {
      "cell_type": "code",
      "execution_count": 18,
      "metadata": {
        "colab": {
          "base_uri": "https://localhost:8080/",
          "height": 279
        },
        "id": "gLpsOo4YSaDw",
        "outputId": "0be3f775-061b-4c44-c90e-7a172730e3da"
      },
      "outputs": [
        {
          "data": {
            "image/png": "[encoded data removed]",
            "text/plain": [
              "<Figure size 432x288 with 2 Axes>"
            ]
          },
          "metadata": {
            "needs_background": "light"
          },
          "output_type": "display_data"
        }
      ],
      "source": [
        "from sklearn.metrics import confusion_matrix\n",
        "\n",
        "actual = numpy.random.binomial(1,.9,size = 40)\n",
        "predicted = numpy.random.binomial(1,.9,size = 40)\n",
        "\n",
        "confusion_matrix = metrics.confusion_matrix(actual, predicted)\n",
        "cm_display = metrics.ConfusionMatrixDisplay(confusion_matrix = confusion_matrix, display_labels = [False, True])\n",
        "\n",
        "cm_display.plot()\n",
        "plt.show()"
      ]
    },
    {
      "cell_type": "markdown",
      "metadata": {
        "id": "0SiHX-18VUP-"
      },
      "source": [
        "### **Training Model *Learning Vector Quantization***"
      ]
    },
    {
      "cell_type": "code",
      "execution_count": 19,
      "metadata": {
        "colab": {
          "base_uri": "https://localhost:8080/"
        },
        "id": "3rKI-a5moZAq",
        "outputId": "74825b88-cc33-467c-8a7c-0fdd60a67f6f"
      },
      "outputs": [
        {
          "name": "stdout",
          "output_type": "stream",
          "text": [
            "Input Neuron: 3\n",
            "Output Neuron: 2\n"
          ]
        }
      ],
      "source": [
        "n_input = X_train.shape[1]\n",
        "n_output = len(np.unique(y_train))\n",
        "print('Input Neuron:', n_input)\n",
        "print('Output Neuron:', n_output)"
      ]
    },
    {
      "cell_type": "code",
      "execution_count": 20,
      "metadata": {
        "id": "0jh_OH9LbWep"
      },
      "outputs": [],
      "source": [
        "X_train = np.array(X_train)\n",
        "X_test = np.array(X_test)\n",
        "y_train = np.array(y_train)\n",
        "y_test = np.array(y_test)"
      ]
    },
    {
      "cell_type": "code",
      "execution_count": 21,
      "metadata": {
        "colab": {
          "base_uri": "https://localhost:8080/"
        },
        "id": "kR1I0_wifLlM",
        "outputId": "7104ac78-6a99-4520-eca7-debd42a0d876"
      },
      "outputs": [
        {
          "name": "stderr",
          "output_type": "stream",
          "text": [
            "C:\\Users\\lenovo\\AppData\\Local\\Temp\\ipykernel_980\\4155665068.py:16: DeprecationWarning: `np.float` is a deprecated alias for the builtin `float`. To silence this warning, use `float` by itself. Doing this will not modify any behavior and is safe. If you specifically wanted the numpy scalar type, use `np.float64` here.\n",
            "Deprecated in NumPy 1.20; for more details and guidance: https://numpy.org/devdocs/release/1.20.0-notes.html#deprecations\n",
            "  self.weight = train_data[label_index].astype(np.float)\n"
          ]
        },
        {
          "name": "stdout",
          "output_type": "stream",
          "text": [
            "Bobot :  [[168.6644374   24.33595344 592.24318873]\n",
            " [160.55198269  20.75073861 430.59315293]]\n",
            "Ukuran Bobot :  (2, 3)\n",
            "Precision :  0.5\n",
            "Recall :  0.125\n",
            "Accuracy :  0.5\n",
            "F1 Score :  0.2\n"
          ]
        }
      ],
      "source": [
        "class LVQ(object):\n",
        "    def __init__(self, sizeInput, sizeOutput, max_epoch, alpha=np.random.random(), threshold=np.random.random(), version='1'):\n",
        "        self.sizeInput = sizeInput\n",
        "        self.sizeOutput = sizeOutput\n",
        "        self.max_epoch = max_epoch\n",
        "        self.alpha = alpha\n",
        "        self.threshold = threshold\n",
        "        self.version = version\n",
        "        self.weight = np.zeros((sizeOutput, sizeInput))\n",
        "    \n",
        "    def getWeight(self):\n",
        "        return self.weight\n",
        "    \n",
        "    def train(self, train_data, train_target):\n",
        "        weight_label, label_index = np.unique(train_target, True)\n",
        "        self.weight = train_data[label_index].astype(np.float)\n",
        "        train_data = np.delete(train_data, label_index, axis=0)\n",
        "        train_target = np.delete(train_target, label_index, axis=0)\n",
        "\n",
        "        epoch = 0\n",
        "        iterasi = 0\n",
        "        while epoch <= self.max_epoch:\n",
        "            epoch += 1\n",
        "            for data, target in zip(train_data, train_target):\n",
        "                iterasi += 1\n",
        "                distance = np.sqrt(np.sum((data - self.weight) ** 2, axis=1))\n",
        "                idx_min = np.argmin(distance)\n",
        "                idx_sort = np.argsort(distance)\n",
        "                idx_winner, idx_runnerUp = idx_sort[0], idx_sort[1]\n",
        "                min_distance = min(distance[idx_winner]/distance[idx_runnerUp], distance[idx_runnerUp]/distance[idx_winner])\n",
        "                max_distance = max(distance[idx_winner]/distance[idx_runnerUp], distance[idx_runnerUp]/distance[idx_winner])\n",
        "            else:\n",
        "                if target == weight_label[idx_min]:\n",
        "                    self.weight[idx_min] = self.weight[idx_min] + self.alpha * (data - self.weight[idx_min])\n",
        "                else:\n",
        "                    self.weight[idx_min] = self.weight[idx_min] + self.alpha * (data - self.weight[idx_min])\n",
        "            \n",
        "            self.alpha = self.alpha * (1 - epoch / self.max_epoch)\n",
        "\n",
        "        weight_class = (self.weight, weight_label)\n",
        "        return weight_class\n",
        "    \n",
        "    def test(self, test_data, weight_class):\n",
        "        weight, label = weight_class\n",
        "        output = []\n",
        "        for data in test_data:\n",
        "            distance = np.sqrt(np.sum((data - self.weight) ** 2, axis=1))\n",
        "            idx_min = np.argmin(distance)\n",
        "            output.append(label[idx_min])\n",
        "        return output\n",
        "\n",
        "lvq = LVQ(sizeInput=n_input, sizeOutput=n_output, max_epoch=10, alpha=0.0001, version='1')\n",
        "bobot_dan_label = lvq.train(X_train, y_train)\n",
        "bobot = lvq.getWeight()\n",
        "print('Bobot : ', bobot)\n",
        "print('Ukuran Bobot : ', bobot.shape)\n",
        "\n",
        "y_pred = lvq.test(X_test, bobot_dan_label)\n",
        "print('Precision : ', precision_score(y_test, y_pred))\n",
        "print('Recall : ', recall_score(y_test, y_pred))\n",
        "print('Accuracy : ', precision_score(y_test, y_pred))\n",
        "print('F1 Score : ', f1_score(y_test, y_pred))"
      ]
    },
    {
      "cell_type": "code",
      "execution_count": 25,
      "metadata": {},
      "outputs": [
        {
          "name": "stdout",
          "output_type": "stream",
          "text": [
            "C:/Users/lenovo/Downloads/IFA 500 - Tugas Akhir/TA-18-051-Resize/Test/DG19.png\n"
          ]
        },
        {
          "data": {
            "image/png": "[encoded data removed]",
            "text/plain": [
              "<Figure size 432x288 with 1 Axes>"
            ]
          },
          "metadata": {
            "needs_background": "light"
          },
          "output_type": "display_data"
        }
      ],
      "source": [
        "customtkinter.set_appearance_mode(\"System\")\n",
        "customtkinter.set_default_color_theme(\"blue\")\n",
        "file_path = None\n",
        "\n",
        "app = customtkinter.CTk()\n",
        "app.geometry(\"800x600\")\n",
        "\n",
        "# text_var = tkinter.StringVar(value=\"CTkLabel\")\n",
        "image = cv2.cvtColor(cv2.imread(\"placeholder.png\"), cv2.COLOR_BGR2RGB)\n",
        "image = Image.fromarray(image)\n",
        "image = ImageTk.PhotoImage(image, master = app)\n",
        "label = tkinter.Label(master=app,\n",
        "                      image = image,\n",
        "                      width=350,\n",
        "                      height=350,\n",
        "                      fg_color=(\"white\", \"gray75\"),\n",
        "                      corner_radius=8)\n",
        "label.place(relx=0.25, rely=0.35, anchor=tkinter.CENTER)\n",
        "\n",
        "text_var1 = tkinter.StringVar(value=\"CTkLabel\")\n",
        "label1 = customtkinter.CTkLabel(master=app,\n",
        "                               textvariable=text_var1,\n",
        "                               width=350,\n",
        "                               height=350,\n",
        "                               fg_color=(\"white\", \"gray75\"),\n",
        "                               corner_radius=8)\n",
        "label1.place(relx=0.75, rely=0.35, anchor=tkinter.CENTER)\n",
        "\n",
        "def open_file():\n",
        "    file_path = filedialog.askopenfilename()\n",
        "    print (file_path)\n",
        "    resized = cv2.resize(cv2.imread(file_path), (224, 224), interpolation = cv2.INTER_AREA)\n",
        "    gray = cv2.cvtColor(resized, cv2.COLOR_BGR2GRAY)\n",
        "    t = 80\n",
        "    maxvalue = 255\n",
        "    th, dst = cv2.threshold(gray, t, maxvalue, cv2.THRESH_OTSU)\n",
        "    plt.imshow(dst)\n",
        "    plt.show()\n",
        "    image = cv2.cvtColor(resized, cv2.COLOR_BGR2RGB)\n",
        "    image = Image.fromarray(image)\n",
        "    image = ImageTk.PhotoImage(image, master = app)\n",
        "    label = tkinter.Label(master=app,\n",
        "                      image = image,\n",
        "                      width=350,\n",
        "                      height=350)\n",
        "    label.image = image\n",
        "    label.place(relx=0.25, rely=0.35, anchor=tkinter.CENTER)\n",
        "    # coding identifikasi layak dan tidak layak\n",
        "\n",
        "button = customtkinter.CTkButton(master=app,\n",
        "                                 width=350,\n",
        "                                 height=60,\n",
        "                                 border_width=0,\n",
        "                                 corner_radius=8,\n",
        "                                 text=\"Proses Citra\",\n",
        "                                 command=open_file)\n",
        "button.place(relx=0.25, rely=0.75, anchor=tkinter.CENTER)\n",
        "\n",
        "app.mainloop()"
      ]
    },
    {
      "cell_type": "markdown",
      "metadata": {},
      "source": [
        "customtkinter.set_appearance_mode(\"System\")\n",
        "customtkinter.set_default_color_theme(\"blue\")\n",
        "file_path = None\n",
        "\n",
        "app = customtkinter.CTk()\n",
        "app.geometry(\"800x600\")\n",
        "\n",
        "text_var = tkinter.StringVar(value=\"CTkLabel\")\n",
        "label = customtkinter.CTkLabel(master=app,\n",
        "                               textvariable=text_var,\n",
        "                               width=350,\n",
        "                               height=350,\n",
        "                               fg_color=(\"white\", \"gray75\"),\n",
        "                               corner_radius=8)\n",
        "label.place(relx=0.25, rely=0.35, anchor=tkinter.CENTER)\n",
        "\n",
        "text_var1 = tkinter.StringVar(value=\"CTkLabel\")\n",
        "label1 = customtkinter.CTkLabel(master=app,\n",
        "                               textvariable=text_var1,\n",
        "                               width=350,\n",
        "                               height=350,\n",
        "                               fg_color=(\"white\", \"gray75\"),\n",
        "                               corner_radius=8)\n",
        "label1.place(relx=0.75, rely=0.35, anchor=tkinter.CENTER)\n",
        "\n",
        "def open_file():\n",
        "    file_path = askopenfile(mode='r', filetypes=[('Image Files', '*jpg')])\n",
        "    resized = cv2.resize(file_path, (224, 224), interpolation = cv2.INTER_AREA)\n",
        "    gray = cv2.cvtColor(resized, cv2.COLOR_BGR2GRAY)\n",
        "    t = 80\n",
        "    maxvalue = 255\n",
        "    th, dst = cv2.threshold(gray, t, maxvalue, cv2.THRESH_OTSU)\n",
        "    image = Image.fromarray(dst)\n",
        "    image = ImageTk.PhotoImage(image)\n",
        "    label.image = image\n",
        "    if file_path is not None:\n",
        "        pass\n",
        "\n",
        "button = customtkinter.CTkButton(master=app,\n",
        "                                 width=350,\n",
        "                                 height=60,\n",
        "                                 border_width=0,\n",
        "                                 corner_radius=8,\n",
        "                                 text=\"Proses Citra\",\n",
        "                                 command=open_file)\n",
        "button.place(relx=0.25, rely=0.75, anchor=tkinter.CENTER)\n",
        "\n",
        "app.mainloop()"
      ]
    }
  ],
  "metadata": {
    "colab": {
      "collapsed_sections": [],
      "name": "AbshariKZ_Train&Test (LVQ).ipynb",
      "provenance": []
    },
    "kernelspec": {
      "display_name": "Python 3.10.5 64-bit",
      "language": "python",
      "name": "python3"
    },
    "language_info": {
      "codemirror_mode": {
        "name": "ipython",
        "version": 3
      },
      "file_extension": ".py",
      "mimetype": "text/x-python",
      "name": "python",
      "nbconvert_exporter": "python",
      "pygments_lexer": "ipython3",
      "version": "3.10.5"
    },
    "vscode": {
      "interpreter": {
        "hash": "213524bb45a1aeaf737b1d8c77d7b8db5d425938d9dffc5f4bc6fe6dd3324700"
      }
    }
  },
  "nbformat": 4,
  "nbformat_minor": 0
}
